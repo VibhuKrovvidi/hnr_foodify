{
 "cells": [
  {
   "cell_type": "code",
   "execution_count": 265,
   "metadata": {},
   "outputs": [
    {
     "name": "stderr",
     "output_type": "stream",
     "text": [
      "Downloading https://raw.githubusercontent.com/stanfordnlp/stanza-resources/master/resources_1.2.0.json: 128kB [00:00, 13.5MB/s]                    \n",
      "2022-01-07 19:19:19 INFO: Downloading default packages for language: en (English)...\n",
      "2022-01-07 19:19:20 INFO: File exists: C:\\Users\\vibkr\\stanza_resources\\en\\default.zip.\n",
      "2022-01-07 19:19:24 INFO: Finished downloading models and saved to C:\\Users\\vibkr\\stanza_resources.\n",
      "2022-01-07 19:19:24 INFO: Loading these models for language: en (English):\n",
      "========================\n",
      "| Processor | Package  |\n",
      "------------------------\n",
      "| tokenize  | combined |\n",
      "| sentiment | sstplus  |\n",
      "========================\n",
      "\n",
      "2022-01-07 19:19:24 INFO: Use device: cpu\n",
      "2022-01-07 19:19:24 INFO: Loading: tokenize\n",
      "2022-01-07 19:19:24 INFO: Loading: sentiment\n",
      "2022-01-07 19:19:24 INFO: Done loading processors!\n"
     ]
    }
   ],
   "source": [
    "# Impport Required packages\n",
    "import pandas as pd\n",
    "import numpy as np\n",
    "import spacy\n",
    "from spacytextblob.spacytextblob import SpacyTextBlob\n",
    "en = spacy.load('en_core_web_sm')\n",
    "en.add_pipe('spacytextblob')\n",
    "import deplacy\n",
    "import stanza\n",
    "stanza.download('en')\n",
    "nlp = stanza.Pipeline(lang='en', processors='tokenize, sentiment')\n",
    "from statistics import mean\n",
    "import xml.etree.ElementTree as ET\n",
    "from scipy import spatial"
   ]
  },
  {
   "cell_type": "code",
   "execution_count": 266,
   "metadata": {},
   "outputs": [
    {
     "data": {
      "text/html": [
       "<div>\n",
       "<style scoped>\n",
       "    .dataframe tbody tr th:only-of-type {\n",
       "        vertical-align: middle;\n",
       "    }\n",
       "\n",
       "    .dataframe tbody tr th {\n",
       "        vertical-align: top;\n",
       "    }\n",
       "\n",
       "    .dataframe thead th {\n",
       "        text-align: right;\n",
       "    }\n",
       "</style>\n",
       "<table border=\"1\" class=\"dataframe\">\n",
       "  <thead>\n",
       "    <tr style=\"text-align: right;\">\n",
       "      <th></th>\n",
       "      <th>Unnamed: 0</th>\n",
       "      <th>Review</th>\n",
       "      <th>Date</th>\n",
       "      <th>Stars</th>\n",
       "      <th>Restaurant</th>\n",
       "    </tr>\n",
       "  </thead>\n",
       "  <tbody>\n",
       "    <tr>\n",
       "      <th>0</th>\n",
       "      <td>0</td>\n",
       "      <td>(Translated by Google) Good hamburgers, delici...</td>\n",
       "      <td>5 days ago</td>\n",
       "      <td>4 stars</td>\n",
       "      <td>TFDB</td>\n",
       "    </tr>\n",
       "    <tr>\n",
       "      <th>3</th>\n",
       "      <td>3</td>\n",
       "      <td>Burger was ok, not fantastic.  Place was extre...</td>\n",
       "      <td>2 weeks ago</td>\n",
       "      <td>3 stars</td>\n",
       "      <td>TFDB</td>\n",
       "    </tr>\n",
       "    <tr>\n",
       "      <th>4</th>\n",
       "      <td>4</td>\n",
       "      <td>One of the better burgers I've had, the bread ...</td>\n",
       "      <td>2 weeks ago</td>\n",
       "      <td>5 stars</td>\n",
       "      <td>TFDB</td>\n",
       "    </tr>\n",
       "  </tbody>\n",
       "</table>\n",
       "</div>"
      ],
      "text/plain": [
       "   Unnamed: 0                                             Review         Date  \\\n",
       "0           0  (Translated by Google) Good hamburgers, delici...   5 days ago   \n",
       "3           3  Burger was ok, not fantastic.  Place was extre...  2 weeks ago   \n",
       "4           4  One of the better burgers I've had, the bread ...  2 weeks ago   \n",
       "\n",
       "       Stars Restaurant  \n",
       "0   4 stars        TFDB  \n",
       "3   3 stars        TFDB  \n",
       "4   5 stars        TFDB  "
      ]
     },
     "execution_count": 266,
     "metadata": {},
     "output_type": "execute_result"
    }
   ],
   "source": [
    "# Read raw reviews\n",
    "# df = pd.read_csv(\"scraped_output.csv\")\n",
    "df = pd.read_csv(\"scraped_output.csv\")\n",
    "df.dropna(inplace=True)\n",
    "df.head(3)"
   ]
  },
  {
   "cell_type": "code",
   "execution_count": 267,
   "metadata": {},
   "outputs": [],
   "source": [
    "def get_feature_descriptors(text):\n",
    "    doc = en(text)\n",
    "    # deplacy.render(doc)\n",
    "    words_seen = set()\n",
    "    fd_dict = dict()\n",
    "    for sent in doc.sents:\n",
    "        for word in sent:\n",
    "            if word.pos_ == \"NOUN\":\n",
    "                temp_noun = word.text;\n",
    "                fd_dict[word.text] = [] # Empty list\n",
    "            if word.pos_ in [\"ADV\", \"ADJ\", \"VERB\"]:\n",
    "                try:\n",
    "                    fd_dict[temp_noun].append(word.text)\n",
    "                except:\n",
    "                    pass;\n",
    "    return [fd_dict]"
   ]
  },
  {
   "cell_type": "code",
   "execution_count": 268,
   "metadata": {},
   "outputs": [
    {
     "data": {
      "text/plain": [
       "[{'food': ['really', 'good'], 'mom': ['thinks', 'amazing']}]"
      ]
     },
     "execution_count": 268,
     "metadata": {},
     "output_type": "execute_result"
    }
   ],
   "source": [
    "txt = \"\"\"The food was really good, and my mom thinks it is amazing\"\"\"\n",
    "get_feature_descriptors(txt)\n"
   ]
  },
  {
   "cell_type": "code",
   "execution_count": 269,
   "metadata": {},
   "outputs": [],
   "source": [
    "# Apply function to get feature-descriptors\n",
    "df[\"feature_descriptors\"] = df[\"Review\"].apply(lambda x:get_feature_descriptors(x))"
   ]
  },
  {
   "cell_type": "code",
   "execution_count": 270,
   "metadata": {},
   "outputs": [
    {
     "data": {
      "text/html": [
       "<div>\n",
       "<style scoped>\n",
       "    .dataframe tbody tr th:only-of-type {\n",
       "        vertical-align: middle;\n",
       "    }\n",
       "\n",
       "    .dataframe tbody tr th {\n",
       "        vertical-align: top;\n",
       "    }\n",
       "\n",
       "    .dataframe thead th {\n",
       "        text-align: right;\n",
       "    }\n",
       "</style>\n",
       "<table border=\"1\" class=\"dataframe\">\n",
       "  <thead>\n",
       "    <tr style=\"text-align: right;\">\n",
       "      <th></th>\n",
       "      <th>Unnamed: 0</th>\n",
       "      <th>Review</th>\n",
       "      <th>Date</th>\n",
       "      <th>Stars</th>\n",
       "      <th>Restaurant</th>\n",
       "      <th>feature_descriptors</th>\n",
       "    </tr>\n",
       "  </thead>\n",
       "  <tbody>\n",
       "    <tr>\n",
       "      <th>0</th>\n",
       "      <td>0</td>\n",
       "      <td>(Translated by Google) Good hamburgers, delici...</td>\n",
       "      <td>5 days ago</td>\n",
       "      <td>4 stars</td>\n",
       "      <td>TFDB</td>\n",
       "      <td>[{'hamburgers': ['delicious', 'great'], 'cockt...</td>\n",
       "    </tr>\n",
       "    <tr>\n",
       "      <th>3</th>\n",
       "      <td>3</td>\n",
       "      <td>Burger was ok, not fantastic.  Place was extre...</td>\n",
       "      <td>2 weeks ago</td>\n",
       "      <td>3 stars</td>\n",
       "      <td>TFDB</td>\n",
       "      <td>[{'night': [], 'room': [], 'temperature': [], ...</td>\n",
       "    </tr>\n",
       "    <tr>\n",
       "      <th>4</th>\n",
       "      <td>4</td>\n",
       "      <td>One of the better burgers I've had, the bread ...</td>\n",
       "      <td>2 weeks ago</td>\n",
       "      <td>5 stars</td>\n",
       "      <td>TFDB</td>\n",
       "      <td>[{'burgers': ['had'], 'bread': ['soft', 'well'...</td>\n",
       "    </tr>\n",
       "  </tbody>\n",
       "</table>\n",
       "</div>"
      ],
      "text/plain": [
       "   Unnamed: 0                                             Review         Date  \\\n",
       "0           0  (Translated by Google) Good hamburgers, delici...   5 days ago   \n",
       "3           3  Burger was ok, not fantastic.  Place was extre...  2 weeks ago   \n",
       "4           4  One of the better burgers I've had, the bread ...  2 weeks ago   \n",
       "\n",
       "       Stars Restaurant                                feature_descriptors  \n",
       "0   4 stars        TFDB  [{'hamburgers': ['delicious', 'great'], 'cockt...  \n",
       "3   3 stars        TFDB  [{'night': [], 'room': [], 'temperature': [], ...  \n",
       "4   5 stars        TFDB  [{'burgers': ['had'], 'bread': ['soft', 'well'...  "
      ]
     },
     "execution_count": 270,
     "metadata": {},
     "output_type": "execute_result"
    }
   ],
   "source": [
    "df.head(3)"
   ]
  },
  {
   "cell_type": "code",
   "execution_count": 271,
   "metadata": {},
   "outputs": [],
   "source": [
    "def get_review_level_sentiment(feat):\n",
    "    feat = feat[0]\n",
    "    comb_dict = dict()\n",
    "    for key in feat.keys():\n",
    "        arr = feat[key]\n",
    "        if key in comb_dict:\n",
    "            for word in arr:\n",
    "                doc = nlp(word)\n",
    "                for i, sentence in enumerate(doc.sentences):\n",
    "                    # print(word, sentence.sentiment)\n",
    "                    comb_dict[key].append(sentence.sentiment)\n",
    "        else:\n",
    "            comb_dict[key] = []\n",
    "            for word in arr:\n",
    "                doc = nlp(word)\n",
    "                for i, sentence in enumerate(doc.sentences):\n",
    "                    # print(word, sentence.sentiment)\n",
    "                    comb_dict[key].append(sentence.sentiment-1)\n",
    "    return [comb_dict]\n",
    "\n",
    "\n",
    "        \n"
   ]
  },
  {
   "cell_type": "code",
   "execution_count": 272,
   "metadata": {},
   "outputs": [
    {
     "data": {
      "text/plain": [
       "[{'burgers': ['reminds', 'only'],\n",
       "  'thing': ['missing', 'perfect'],\n",
       "  'weather': ['Fantastic'],\n",
       "  'char': ['patty'],\n",
       "  'onion': [],\n",
       "  'rings': ['nicely', 'done']}]"
      ]
     },
     "execution_count": 272,
     "metadata": {},
     "output_type": "execute_result"
    }
   ],
   "source": [
    "df.iloc[5,5]"
   ]
  },
  {
   "cell_type": "code",
   "execution_count": 273,
   "metadata": {},
   "outputs": [],
   "source": [
    "df[\"sentiment_feat\"] = df[\"feature_descriptors\"].apply(lambda x:get_review_level_sentiment(x))"
   ]
  },
  {
   "cell_type": "code",
   "execution_count": 274,
   "metadata": {},
   "outputs": [
    {
     "data": {
      "text/html": [
       "<div>\n",
       "<style scoped>\n",
       "    .dataframe tbody tr th:only-of-type {\n",
       "        vertical-align: middle;\n",
       "    }\n",
       "\n",
       "    .dataframe tbody tr th {\n",
       "        vertical-align: top;\n",
       "    }\n",
       "\n",
       "    .dataframe thead th {\n",
       "        text-align: right;\n",
       "    }\n",
       "</style>\n",
       "<table border=\"1\" class=\"dataframe\">\n",
       "  <thead>\n",
       "    <tr style=\"text-align: right;\">\n",
       "      <th></th>\n",
       "      <th>Unnamed: 0</th>\n",
       "      <th>Review</th>\n",
       "      <th>Date</th>\n",
       "      <th>Stars</th>\n",
       "      <th>Restaurant</th>\n",
       "      <th>feature_descriptors</th>\n",
       "      <th>sentiment_feat</th>\n",
       "    </tr>\n",
       "  </thead>\n",
       "  <tbody>\n",
       "    <tr>\n",
       "      <th>0</th>\n",
       "      <td>0</td>\n",
       "      <td>(Translated by Google) Good hamburgers, delici...</td>\n",
       "      <td>5 days ago</td>\n",
       "      <td>4 stars</td>\n",
       "      <td>TFDB</td>\n",
       "      <td>[{'hamburgers': ['delicious', 'great'], 'cockt...</td>\n",
       "      <td>[{'hamburgers': [1, 1], 'cocktails': [1]}]</td>\n",
       "    </tr>\n",
       "    <tr>\n",
       "      <th>3</th>\n",
       "      <td>3</td>\n",
       "      <td>Burger was ok, not fantastic.  Place was extre...</td>\n",
       "      <td>2 weeks ago</td>\n",
       "      <td>3 stars</td>\n",
       "      <td>TFDB</td>\n",
       "      <td>[{'night': [], 'room': [], 'temperature': [], ...</td>\n",
       "      <td>[{'night': [], 'room': [], 'temperature': [], ...</td>\n",
       "    </tr>\n",
       "    <tr>\n",
       "      <th>4</th>\n",
       "      <td>4</td>\n",
       "      <td>One of the better burgers I've had, the bread ...</td>\n",
       "      <td>2 weeks ago</td>\n",
       "      <td>5 stars</td>\n",
       "      <td>TFDB</td>\n",
       "      <td>[{'burgers': ['had'], 'bread': ['soft', 'well'...</td>\n",
       "      <td>[{'burgers': [0], 'bread': [0, 1, 0], 'meat': ...</td>\n",
       "    </tr>\n",
       "  </tbody>\n",
       "</table>\n",
       "</div>"
      ],
      "text/plain": [
       "   Unnamed: 0                                             Review         Date  \\\n",
       "0           0  (Translated by Google) Good hamburgers, delici...   5 days ago   \n",
       "3           3  Burger was ok, not fantastic.  Place was extre...  2 weeks ago   \n",
       "4           4  One of the better burgers I've had, the bread ...  2 weeks ago   \n",
       "\n",
       "       Stars Restaurant                                feature_descriptors  \\\n",
       "0   4 stars        TFDB  [{'hamburgers': ['delicious', 'great'], 'cockt...   \n",
       "3   3 stars        TFDB  [{'night': [], 'room': [], 'temperature': [], ...   \n",
       "4   5 stars        TFDB  [{'burgers': ['had'], 'bread': ['soft', 'well'...   \n",
       "\n",
       "                                      sentiment_feat  \n",
       "0         [{'hamburgers': [1, 1], 'cocktails': [1]}]  \n",
       "3  [{'night': [], 'room': [], 'temperature': [], ...  \n",
       "4  [{'burgers': [0], 'bread': [0, 1, 0], 'meat': ...  "
      ]
     },
     "execution_count": 274,
     "metadata": {},
     "output_type": "execute_result"
    }
   ],
   "source": [
    "df.head(3)"
   ]
  },
  {
   "cell_type": "code",
   "execution_count": 275,
   "metadata": {},
   "outputs": [],
   "source": [
    "# Get avg sentiment for each feature at restaurant level\n",
    "\n",
    "# restaurants = df[\"Restaurant\"].unique()\n",
    "# restaurants = list(restaurants)\n",
    "\n",
    "# avg_sent_list = []\n",
    "\n",
    "# for rest in restaurants:\n",
    "#     tdf = df[df[\"Restaurant\"] == rest]\n",
    "\n",
    "#     rmap = dict()\n",
    "\n",
    "#     ser = tdf[\"sentiment_feat\"].tolist()\n",
    "#     ser = [item for sublist in ser for item in sublist]\n",
    "#     # print(ser)\n",
    "    \n",
    "#     for d in ser:\n",
    "#         rmap.update(d)\n",
    "    \n",
    "#     for key in rmap.keys():\n",
    "#         if len(rmap[key]) > 0:\n",
    "#             m = mean(rmap[key])\n",
    "#             rmap[key] = m\n",
    "#     # print(rmap)\n",
    "#     avg_sent_list.append((rest, rmap))\n"
   ]
  },
  {
   "cell_type": "code",
   "execution_count": 276,
   "metadata": {},
   "outputs": [
    {
     "name": "stdout",
     "output_type": "stream",
     "text": [
      "Found 400000 word vectors.\n"
     ]
    }
   ],
   "source": [
    "# further process to categorise\n",
    "corpus = {\n",
    "  'food': ['pasta', 'food', 'drink', 'cocktails', 'pizza', 'roti', 'naan', 'noodles', 'burger', 'buns', 'bread', \"soup\"],\n",
    "  'service': ['service', \"waiter\", 'plate', 'delivery', 'manager', 'staff', 'chef', 'chefs'],\n",
    "  'price': ['price', 'value', 'cheap', 'expensive', 'bargain', 'deal', 'money', 'affordable', 'pricey'],\n",
    "  'ambience': ['light', 'table', 'carpet', 'decoration', 'view', 'ambience'],\n",
    "  'location' : ['area', 'location', 'destination', 'place'],\n",
    "}\n",
    "\n",
    "# Then, find word vector\n",
    "embeddings_index = {}\n",
    "with open('glove.6B.100d.txt', encoding=\"utf8\") as f:\n",
    "    for line in f:\n",
    "        word, coefs = line.split(maxsplit=1)\n",
    "        coefs = np.fromstring(coefs, \"f\", sep=\" \")\n",
    "        embeddings_index[word] = coefs\n",
    "\n",
    "print(\"Found %s word vectors.\" % len(embeddings_index))\n",
    "\n",
    "vect_corpus = {\n",
    "    'food':[], 'service': [], 'price': [], 'ambience':[], 'location':[]\n",
    "  }\n",
    "\n",
    "for key in corpus.keys():\n",
    "  arr = corpus[key]\n",
    "  for word in arr:\n",
    "    vect_corpus[key].append(embeddings_index[word])\n",
    "  vect_corpus[key] = np.average(vect_corpus[key], axis=0)\n",
    "\n",
    "def recalculate():\n",
    "  # Calculate avg\n",
    "  vect_corpus[key] = np.average(vect_corpus[key], axis=0)\n",
    "  return vect_corpus\n"
   ]
  },
  {
   "cell_type": "code",
   "execution_count": 277,
   "metadata": {},
   "outputs": [],
   "source": [
    "\n",
    "def categorise(feat):\n",
    "  feat = feat[0]\n",
    "  feat = feat.copy()\n",
    "  # print(feat)\n",
    "  retdict = dict()\n",
    "\n",
    "  for key in feat.keys():\n",
    "    # Get key's vector\n",
    "    # print(key)\n",
    "    try:\n",
    "      vkey = embeddings_index[key]\n",
    "      # print(\"VKEY\", vkey, \"=====\\n\\n\")\n",
    "\n",
    "      max_sim = -1\n",
    "      cat = \"\"\n",
    "\n",
    "      # Comp to each feature\n",
    "      for aspect in corpus.keys():\n",
    "        # Get cosine sim for each\n",
    "        result = 1 - spatial.distance.cosine(vkey, vect_corpus[aspect])\n",
    "    \n",
    "        if result > max_sim:\n",
    "          # print(result)\n",
    "          max_sim = result;\n",
    "          cat = aspect\n",
    "      if cat in retdict:\n",
    "        for i in feat[key]:\n",
    "          retdict[cat].append(i)\n",
    "\n",
    "      else:\n",
    "        retdict[cat] = feat[key]\n",
    "      # print(retdict)\n",
    "      # corpus[cat].append(key)\n",
    "      # recalculate()\n",
    "    except:\n",
    "      pass\n",
    "    \n",
    "  return retdict;"
   ]
  },
  {
   "cell_type": "code",
   "execution_count": 278,
   "metadata": {},
   "outputs": [
    {
     "name": "stdout",
     "output_type": "stream",
     "text": [
      "[{'time': [], 'date': [], 'pm': [], 'wife': ['popped'], 'way': [], 'errands': ['was', 'wonderful', 'had'], 'no.1': ['had', 'nice'], 'touch': ['had'], 'servicing': [], 'sizes': ['smaller'], 'size': [], 'discerning': []}]\n"
     ]
    },
    {
     "data": {
      "text/plain": [
       "{'food': ['delicious', 'great', 'Original']}"
      ]
     },
     "execution_count": 278,
     "metadata": {},
     "output_type": "execute_result"
    }
   ],
   "source": [
    "print(df.iloc[3, 5])\n",
    "categorise(df.iloc[0, 5])"
   ]
  },
  {
   "cell_type": "code",
   "execution_count": 279,
   "metadata": {},
   "outputs": [],
   "source": [
    "df[\"categorised_sentiment\"] = df[\"sentiment_feat\"].apply(lambda x:categorise(x))"
   ]
  }
 ],
 "metadata": {
  "interpreter": {
   "hash": "0ebc2ec29837b2e4a4e7f8443f73f3a33a76985d49c267c78db53c860ec84ae6"
  },
  "kernelspec": {
   "display_name": "Python 3.9.2 64-bit",
   "name": "python3"
  },
  "language_info": {
   "codemirror_mode": {
    "name": "ipython",
    "version": 3
   },
   "file_extension": ".py",
   "mimetype": "text/x-python",
   "name": "python",
   "nbconvert_exporter": "python",
   "pygments_lexer": "ipython3",
   "version": "3.9.2"
  },
  "orig_nbformat": 4
 },
 "nbformat": 4,
 "nbformat_minor": 2
}
